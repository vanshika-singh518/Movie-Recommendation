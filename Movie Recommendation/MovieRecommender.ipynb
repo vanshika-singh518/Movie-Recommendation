{
 "cells": [
  {
   "cell_type": "code",
   "execution_count": 1,
   "metadata": {},
   "outputs": [],
   "source": [
    "import numpy as np\n",
    "import pandas as pd\n",
    "\n",
    "from sklearn.feature_extraction.text import CountVectorizer\n",
    "from sklearn.metrics.pairwise import cosine_similarity\n",
    "\n",
    "import os\n",
    "import json\n",
    "import pickle\n",
    "import requests"
   ]
  },
  {
   "cell_type": "code",
   "execution_count": 2,
   "metadata": {},
   "outputs": [
    {
     "data": {
      "text/html": [
       "<div>\n",
       "<style scoped>\n",
       "    .dataframe tbody tr th:only-of-type {\n",
       "        vertical-align: middle;\n",
       "    }\n",
       "\n",
       "    .dataframe tbody tr th {\n",
       "        vertical-align: top;\n",
       "    }\n",
       "\n",
       "    .dataframe thead th {\n",
       "        text-align: right;\n",
       "    }\n",
       "</style>\n",
       "<table border=\"1\" class=\"dataframe\">\n",
       "  <thead>\n",
       "    <tr style=\"text-align: right;\">\n",
       "      <th></th>\n",
       "      <th>title</th>\n",
       "      <th>genres</th>\n",
       "      <th>director_name</th>\n",
       "      <th>actor1_name</th>\n",
       "      <th>actor2_name</th>\n",
       "      <th>actor3_name</th>\n",
       "      <th>comb</th>\n",
       "    </tr>\n",
       "  </thead>\n",
       "  <tbody>\n",
       "    <tr>\n",
       "      <th>0</th>\n",
       "      <td>pirates of the caribbean: dead men tell no tales</td>\n",
       "      <td>Adventure Action Fantasy Comedy</td>\n",
       "      <td>Joachim Rønning Espen Sandberg</td>\n",
       "      <td>Johnny Depp</td>\n",
       "      <td>Javier Bardem</td>\n",
       "      <td>Geoffrey Rush</td>\n",
       "      <td>Joachim Rønning Espen Sandberg Johnny Depp Jav...</td>\n",
       "    </tr>\n",
       "    <tr>\n",
       "      <th>1</th>\n",
       "      <td>justice league</td>\n",
       "      <td>Action Adventure Fantasy Sci-Fi</td>\n",
       "      <td>Zack Snyder</td>\n",
       "      <td>Ben Affleck</td>\n",
       "      <td>Henry Cavill</td>\n",
       "      <td>Gal Gadot</td>\n",
       "      <td>Zack Snyder Ben Affleck Henry Cavill Gal Gadot...</td>\n",
       "    </tr>\n",
       "    <tr>\n",
       "      <th>2</th>\n",
       "      <td>thor: ragnarok</td>\n",
       "      <td>Action Adventure Fantasy Sci-Fi</td>\n",
       "      <td>Taika Waititi</td>\n",
       "      <td>Chris Hemsworth</td>\n",
       "      <td>Tom Hiddleston</td>\n",
       "      <td>Cate Blanchett</td>\n",
       "      <td>Taika Waititi Chris Hemsworth Tom Hiddleston C...</td>\n",
       "    </tr>\n",
       "    <tr>\n",
       "      <th>3</th>\n",
       "      <td>guardians of the galaxy vol. 2</td>\n",
       "      <td>Action Adventure Comedy Sci-Fi</td>\n",
       "      <td>James Gunn</td>\n",
       "      <td>Chris Pratt</td>\n",
       "      <td>Zoe Saldana</td>\n",
       "      <td>Dave Bautista</td>\n",
       "      <td>James Gunn Chris Pratt Zoe Saldana Dave Bautis...</td>\n",
       "    </tr>\n",
       "    <tr>\n",
       "      <th>4</th>\n",
       "      <td>the king's daughter</td>\n",
       "      <td>Fantasy Action Adventure</td>\n",
       "      <td>Sean McNamara</td>\n",
       "      <td>Pierce Brosnan</td>\n",
       "      <td>William Hurt</td>\n",
       "      <td>Benjamin Walker</td>\n",
       "      <td>Sean McNamara Pierce Brosnan William Hurt Benj...</td>\n",
       "    </tr>\n",
       "  </tbody>\n",
       "</table>\n",
       "</div>"
      ],
      "text/plain": [
       "                                              title  \\\n",
       "0  pirates of the caribbean: dead men tell no tales   \n",
       "1                                    justice league   \n",
       "2                                    thor: ragnarok   \n",
       "3                    guardians of the galaxy vol. 2   \n",
       "4                               the king's daughter   \n",
       "\n",
       "                            genres                   director_name  \\\n",
       "0  Adventure Action Fantasy Comedy  Joachim Rønning Espen Sandberg   \n",
       "1  Action Adventure Fantasy Sci-Fi                     Zack Snyder   \n",
       "2  Action Adventure Fantasy Sci-Fi                   Taika Waititi   \n",
       "3   Action Adventure Comedy Sci-Fi                      James Gunn   \n",
       "4         Fantasy Action Adventure                   Sean McNamara   \n",
       "\n",
       "       actor1_name     actor2_name      actor3_name  \\\n",
       "0      Johnny Depp   Javier Bardem    Geoffrey Rush   \n",
       "1      Ben Affleck    Henry Cavill        Gal Gadot   \n",
       "2  Chris Hemsworth  Tom Hiddleston   Cate Blanchett   \n",
       "3      Chris Pratt     Zoe Saldana    Dave Bautista   \n",
       "4   Pierce Brosnan    William Hurt  Benjamin Walker   \n",
       "\n",
       "                                                comb  \n",
       "0  Joachim Rønning Espen Sandberg Johnny Depp Jav...  \n",
       "1  Zack Snyder Ben Affleck Henry Cavill Gal Gadot...  \n",
       "2  Taika Waititi Chris Hemsworth Tom Hiddleston C...  \n",
       "3  James Gunn Chris Pratt Zoe Saldana Dave Bautis...  \n",
       "4  Sean McNamara Pierce Brosnan William Hurt Benj...  "
      ]
     },
     "execution_count": 2,
     "metadata": {},
     "output_type": "execute_result"
    }
   ],
   "source": [
    "movie_data = pd.read_csv(\"./final_movie_data.csv\")\n",
    "movie_data.head()"
   ]
  },
  {
   "cell_type": "code",
   "execution_count": 3,
   "metadata": {},
   "outputs": [],
   "source": [
    "def create_similarity():\n",
    "    movie_data = pd.read_csv('final_movie_data.csv')\n",
    "    # creating a count matrix\n",
    "    cv = CountVectorizer()\n",
    "    count_matrix = cv.fit_transform(movie_data['comb'])\n",
    "    # creating a similarity score matrix\n",
    "    similarity = cosine_similarity(count_matrix)\n",
    "    return movie_data,similarity"
   ]
  },
  {
   "cell_type": "code",
   "execution_count": 4,
   "metadata": {},
   "outputs": [],
   "source": [
    "def convert(val):\n",
    "    # isinstance(val, np.generic) will return True if val is an array scalar object.\n",
    "    if isinstance(val, np.generic):\n",
    "        return val.item()\n",
    "    raise TypeError"
   ]
  },
  {
   "cell_type": "code",
   "execution_count": 5,
   "metadata": {},
   "outputs": [],
   "source": [
    "from tmdbv3api import TMDb\n",
    "from tmdbv3api import Movie\n",
    "\n",
    "tmdb = TMDb()\n",
    "TMDB_API_KEY = \"75f49154067c35aa93fcb726bdcc2adb\"\n",
    "tmdb.api_key = TMDB_API_KEY"
   ]
  },
  {
   "cell_type": "code",
   "execution_count": 6,
   "metadata": {},
   "outputs": [],
   "source": [
    "def movie_search_engine(movie_name, TMDB_API_KEY = TMDB_API_KEY):\n",
    "    MOVIE_SEARCH_LINK = \"https://api.themoviedb.org/3/movie/\"\n",
    "    BASE_IMAGE_URL = \"https://image.tmdb.org/t/p/original\"\n",
    "    tmdb_movie = Movie()\n",
    "    search_result = tmdb_movie.search(movie_name.strip())\n",
    "    movie_id = search_result[0][\"id\"]\n",
    "    response = requests.get(MOVIE_SEARCH_LINK+\"{}?api_key={}\".format(movie_id, tmdb.api_key))\n",
    "    json_response = response.json()\n",
    "    \n",
    "    movie_data = {}\n",
    "    movie_data[\"title\"] = json_response[\"original_title\"] if json_response[\"original_title\"] and json_response[\"original_title\"].lower()==movie_name else json_response[\"title\"]\n",
    "    movie_data[\"poster\"] = BASE_IMAGE_URL + json_response[\"poster_path\"]\n",
    "    movie_data[\"overview\"] = json_response[\"overview\"]\n",
    "    genres = []\n",
    "    for genre in json_response[\"genres\"]:\n",
    "        genres.append(genre[\"name\"])\n",
    "    movie_data[\"genres\"] = \"*\".join(genres)\n",
    "    movie_data[\"rating\"] = json_response[\"vote_average\"]\n",
    "    movie_data[\"total_votes\"] = json_response[\"vote_count\"]\n",
    "    movie_data[\"tag_line\"] = json_response[\"tagline\"]\n",
    "    movie_data[\"status\"] = json_response[\"status\"]\n",
    "    return movie_data"
   ]
  },
  {
   "cell_type": "code",
   "execution_count": 10,
   "metadata": {},
   "outputs": [],
   "source": [
    "def movie_recommender_engine(movie_name, n_top_recommendations=10):\n",
    "    movie_name = movie_name.strip().lower()\n",
    "    data, similarity_matrix = create_similarity()\n",
    "    if movie_name not in data[\"title\"].unique():\n",
    "        return json.dumps({\"error\": \"Sorry! Movie is not in our database. Please check the spelling or try with another movie name\"}, default=convert)\n",
    "    else:\n",
    "        index = data.loc[data[\"title\"] == movie_name].index[0]\n",
    "        matrix = list(enumerate(similarity_matrix[index]))\n",
    "        matrix = sorted(matrix, key=lambda x:x[1], reverse=True)\n",
    "        recommended_indexes = [index for (index, similarity) in matrix[1:n_top_recommendations+1]]\n",
    "        recommended_movies = {}\n",
    "        for i, index in enumerate(recommended_indexes):\n",
    "            r_movie_name = data[\"title\"][index]\n",
    "            movie_data = movie_search_engine(r_movie_name)\n",
    "            recommended_movies[\"movie\"+str(i+1)] = movie_data\n",
    "        recommended_movies = json.dumps(recommended_movies, default = convert)\n",
    "        return recommended_movies"
   ]
  },
  {
   "cell_type": "code",
   "execution_count": 11,
   "metadata": {},
   "outputs": [
    {
     "data": {
      "text/plain": [
       "'{\"movie1\": {\"title\": \"Iron Man 2\", \"poster\": \"https://image.tmdb.org/t/p/original/6WBeq4fCfn7AN0o21W9qNcRF2l9.jpg\", \"overview\": \"With the world now aware of his dual life as the armored superhero Iron Man, billionaire inventor Tony Stark faces pressure from the government, the press and the public to share his technology with the military. Unwilling to let go of his invention, Stark, with Pepper Potts and James \\'Rhodey\\' Rhodes at his side, must forge new alliances \\\\u2013 and confront powerful enemies.\", \"genres\": \"Adventure*Action*Science Fiction\", \"rating\": 6.8, \"total_votes\": 17947, \"tag_line\": \"It\\'s not the armor that makes the hero, but the man inside.\", \"status\": \"Released\"}, \"movie2\": {\"title\": \"Iron Man 3\", \"poster\": \"https://image.tmdb.org/t/p/original/qhPtAc1TKbMPqNvcdXSOn9Bn7hZ.jpg\", \"overview\": \"When Tony Stark\\'s world is torn apart by a formidable terrorist called the Mandarin, he starts an odyssey of rebuilding and retribution.\", \"genres\": \"Action*Adventure*Science Fiction\", \"rating\": 6.9, \"total_votes\": 19468, \"tag_line\": \"Unleash the power behind the armor.\", \"status\": \"Released\"}, \"movie3\": {\"title\": \"Deep Impact\", \"poster\": \"https://image.tmdb.org/t/p/original/a3vQS7JKqlOb3MdVJHuTCP9s7Mg.jpg\", \"overview\": \"A seven-mile-wide space rock is hurtling toward Earth, threatening to obliterate the planet. Now, it\\'s up to the president of the United States to save the world. He appoints a tough-as-nails veteran astronaut to lead a joint American-Russian crew into space to destroy the comet before impact. Meanwhile, an enterprising reporter uses her smarts to uncover the scoop of the century.\", \"genres\": \"Action*Drama*Science Fiction\", \"rating\": 6.2, \"total_votes\": 2398, \"tag_line\": \"Oceans Rise. Cities Fall. Hope survives.\", \"status\": \"Released\"}, \"movie4\": {\"title\": \"Zathura: A Space Adventure\", \"poster\": \"https://image.tmdb.org/t/p/original/g0HLEZfqJp5dRxMzkgZwW9puP7N.jpg\", \"overview\": \"After their father is called into work, two young boys, Walter and Danny, are left in the care of their teenage sister, Lisa, and told they must stay inside. Walter and Danny, who anticipate a boring day, are shocked when they begin playing Zathura, a space-themed board game, which they realize has mystical powers when their house is shot into space. With the help of an astronaut, the boys attempt to return home.\", \"genres\": \"Family*Fantasy*Science Fiction*Adventure*Comedy\", \"rating\": 6.4, \"total_votes\": 2651, \"tag_line\": \"Adventure Is Waiting\", \"status\": \"Released\"}, \"movie5\": {\"title\": \"The Conjuring: The Devil Made Me Do It\", \"poster\": \"https://image.tmdb.org/t/p/original/xbSuFiJbbBWCkyCCKIMfuDCA4yV.jpg\", \"overview\": \"Paranormal investigators Ed and Lorraine Warren encounter what would become one of the most sensational cases from their files. The fight for the soul of a young boy takes them beyond anything they\\'d ever seen before, to mark the first time in U.S. history that a murder suspect would claim demonic possession as a defense.\", \"genres\": \"Horror*Mystery*Thriller\", \"rating\": 7.6, \"total_votes\": 4426, \"tag_line\": \"The demonic case that shocked America.\", \"status\": \"Released\"}, \"movie6\": {\"title\": \"Avengers: Age of Ultron\", \"poster\": \"https://image.tmdb.org/t/p/original/4ssDuvEDkSArWEdyBl2X5EHvYKU.jpg\", \"overview\": \"When Tony Stark tries to jumpstart a dormant peacekeeping program, things go awry and Earth\\\\u2019s Mightiest Heroes are put to the ultimate test as the fate of the planet hangs in the balance. As the villainous Ultron emerges, it is up to The Avengers to stop him from enacting his terrible plans, and soon uneasy alliances and unexpected action pave the way for an epic and unique global adventure.\", \"genres\": \"Action*Adventure*Science Fiction\", \"rating\": 7.3, \"total_votes\": 19855, \"tag_line\": \"A New Age Has Come.\", \"status\": \"Released\"}, \"movie7\": {\"title\": \"The Avengers\", \"poster\": \"https://image.tmdb.org/t/p/original/RYMX2wcKCBAr24UyPD7xwmjaTn.jpg\", \"overview\": \"When an unexpected enemy emerges and threatens global safety and security, Nick Fury, director of the international peacekeeping agency known as S.H.I.E.L.D., finds himself in need of a team to pull the world back from the brink of disaster. Spanning the globe, a daring recruitment effort begins!\", \"genres\": \"Science Fiction*Action*Adventure\", \"rating\": 7.7, \"total_votes\": 26946, \"tag_line\": \"Some assembly required.\", \"status\": \"Released\"}, \"movie8\": {\"title\": \"Captain America: Civil War\", \"poster\": \"https://image.tmdb.org/t/p/original/rAGiXaUfPzY7CDEyNKUofk3Kw2e.jpg\", \"overview\": \"Following the events of Age of Ultron, the collective governments of the world pass an act designed to regulate all superhuman activity. This polarizes opinion amongst the Avengers, causing two factions to side with Iron Man or Captain America, which causes an epic battle between former allies.\", \"genres\": \"Adventure*Action*Science Fiction\", \"rating\": 7.4, \"total_votes\": 19824, \"tag_line\": \"Divided We Fall\", \"status\": \"Released\"}, \"movie9\": {\"title\": \"The Avengers\", \"poster\": \"https://image.tmdb.org/t/p/original/RYMX2wcKCBAr24UyPD7xwmjaTn.jpg\", \"overview\": \"When an unexpected enemy emerges and threatens global safety and security, Nick Fury, director of the international peacekeeping agency known as S.H.I.E.L.D., finds himself in need of a team to pull the world back from the brink of disaster. Spanning the globe, a daring recruitment effort begins!\", \"genres\": \"Science Fiction*Action*Adventure\", \"rating\": 7.7, \"total_votes\": 26946, \"tag_line\": \"Some assembly required.\", \"status\": \"Released\"}, \"movie10\": {\"title\": \"TRON: Legacy\", \"poster\": \"https://image.tmdb.org/t/p/original/vuifSABRpSnxCAOxEnWpNbZSXpp.jpg\", \"overview\": \"Sam Flynn, the tech-savvy and daring son of Kevin Flynn, investigates his father\\'s disappearance and is pulled into The Grid. With the help of a mysterious program named Quorra, Sam quests to stop evil dictator Clu from crossing into the real world.\", \"genres\": \"Adventure*Action*Science Fiction\", \"rating\": 6.4, \"total_votes\": 6026, \"tag_line\": \"The game has changed.\", \"status\": \"Released\"}}'"
      ]
     },
     "execution_count": 11,
     "metadata": {},
     "output_type": "execute_result"
    }
   ],
   "source": [
    "movie_recommender_engine(\"iron man\", 10)"
   ]
  },
  {
   "cell_type": "code",
   "execution_count": null,
   "metadata": {},
   "outputs": [],
   "source": []
  }
 ],
 "metadata": {
  "interpreter": {
   "hash": "d3e10ef16274dd72e574b8fa73b58450b957d8421a2901baded3cca26fcf5dda"
  },
  "kernelspec": {
   "display_name": "Python 3",
   "language": "python",
   "name": "python3"
  },
  "language_info": {
   "codemirror_mode": {
    "name": "ipython",
    "version": 3
   },
   "file_extension": ".py",
   "mimetype": "text/x-python",
   "name": "python",
   "nbconvert_exporter": "python",
   "pygments_lexer": "ipython3",
   "version": "3.8.5"
  }
 },
 "nbformat": 4,
 "nbformat_minor": 4
}
